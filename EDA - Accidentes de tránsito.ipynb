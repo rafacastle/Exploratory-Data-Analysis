{
 "cells": [
  {
   "cell_type": "markdown",
   "id": "0651deda",
   "metadata": {},
   "source": [
    "# Accidentes de tránsito\n",
    "## Exploración y análisis de probabilidades\n",
    "\n",
    "### RafaCastle\n",
    "\n",
    "Veamos primero el dataframe a grandes razgos"
   ]
  },
  {
   "cell_type": "code",
   "execution_count": 1,
   "id": "9a82b9a1",
   "metadata": {},
   "outputs": [],
   "source": [
    "import pandas as pd\n",
    "import numpy as np\n",
    "import matplotlib.pyplot as plt\n",
    "from itertools import product\n",
    "import datetime\n",
    "import statistics as st\n",
    "import seaborn as sns"
   ]
  },
  {
   "cell_type": "code",
   "execution_count": 2,
   "id": "33d7d9b3",
   "metadata": {
    "scrolled": true
   },
   "outputs": [
    {
     "data": {
      "text/html": [
       "<div>\n",
       "<style scoped>\n",
       "    .dataframe tbody tr th:only-of-type {\n",
       "        vertical-align: middle;\n",
       "    }\n",
       "\n",
       "    .dataframe tbody tr th {\n",
       "        vertical-align: top;\n",
       "    }\n",
       "\n",
       "    .dataframe thead th {\n",
       "        text-align: right;\n",
       "    }\n",
       "</style>\n",
       "<table border=\"1\" class=\"dataframe\">\n",
       "  <thead>\n",
       "    <tr style=\"text-align: right;\">\n",
       "      <th></th>\n",
       "      <th>id</th>\n",
       "      <th>fecha_evento</th>\n",
       "      <th>mes</th>\n",
       "      <th>hora</th>\n",
       "      <th>condicion</th>\n",
       "      <th>tipo_de_evento</th>\n",
       "      <th>punto_1</th>\n",
       "      <th>punto_2</th>\n",
       "      <th>colonia</th>\n",
       "      <th>alcaldia</th>\n",
       "      <th>...</th>\n",
       "      <th>ciclista_lesionado</th>\n",
       "      <th>pasajero_occiso</th>\n",
       "      <th>pasajero_lesionado</th>\n",
       "      <th>motociclista_occiso</th>\n",
       "      <th>motociclista_lesionado</th>\n",
       "      <th>conductor_occiso</th>\n",
       "      <th>conductor_lesionado</th>\n",
       "      <th>diagnostico_occiso</th>\n",
       "      <th>diagnostico_lesionado</th>\n",
       "      <th>origen</th>\n",
       "    </tr>\n",
       "  </thead>\n",
       "  <tbody>\n",
       "    <tr>\n",
       "      <th>0</th>\n",
       "      <td>0</td>\n",
       "      <td>06/04/2020</td>\n",
       "      <td>abril</td>\n",
       "      <td>12:50</td>\n",
       "      <td>NaN</td>\n",
       "      <td>CHOQUE</td>\n",
       "      <td>EJE 7 SUR</td>\n",
       "      <td>ANTILLAS</td>\n",
       "      <td>PORTALES NTE</td>\n",
       "      <td>BENITO JUAREZ</td>\n",
       "      <td>...</td>\n",
       "      <td>1.0</td>\n",
       "      <td>0.0</td>\n",
       "      <td>0.0</td>\n",
       "      <td>0.0</td>\n",
       "      <td>0.0</td>\n",
       "      <td>0.0</td>\n",
       "      <td>0.0</td>\n",
       "      <td>NaN</td>\n",
       "      <td>POLICONTUNDIDO</td>\n",
       "      <td>RADIO</td>\n",
       "    </tr>\n",
       "    <tr>\n",
       "      <th>1</th>\n",
       "      <td>1</td>\n",
       "      <td>06/04/2020</td>\n",
       "      <td>abril</td>\n",
       "      <td>18:31</td>\n",
       "      <td>NaN</td>\n",
       "      <td>CHOQUE</td>\n",
       "      <td>CALZ DEL HUESO</td>\n",
       "      <td>RANCHO COLORADO</td>\n",
       "      <td>COAPA STA CECILIA</td>\n",
       "      <td>COYOACAN</td>\n",
       "      <td>...</td>\n",
       "      <td>0.0</td>\n",
       "      <td>0.0</td>\n",
       "      <td>0.0</td>\n",
       "      <td>0.0</td>\n",
       "      <td>1.0</td>\n",
       "      <td>0.0</td>\n",
       "      <td>0.0</td>\n",
       "      <td>NaN</td>\n",
       "      <td>POLICONTUNDIDO</td>\n",
       "      <td>911 CDMX</td>\n",
       "    </tr>\n",
       "    <tr>\n",
       "      <th>2</th>\n",
       "      <td>2</td>\n",
       "      <td>06/04/2020</td>\n",
       "      <td>abril</td>\n",
       "      <td>18:39</td>\n",
       "      <td>NaN</td>\n",
       "      <td>CHOQUE</td>\n",
       "      <td>EJE 5 NTE</td>\n",
       "      <td>AV GRAN CANAL DEL DESAGUE</td>\n",
       "      <td>JOSE MA MORELOS Y PAVON</td>\n",
       "      <td>GUSTAVO A MADERO</td>\n",
       "      <td>...</td>\n",
       "      <td>0.0</td>\n",
       "      <td>0.0</td>\n",
       "      <td>0.0</td>\n",
       "      <td>0.0</td>\n",
       "      <td>1.0</td>\n",
       "      <td>0.0</td>\n",
       "      <td>0.0</td>\n",
       "      <td>NaN</td>\n",
       "      <td>HX BOCA</td>\n",
       "      <td>911 CDMX</td>\n",
       "    </tr>\n",
       "    <tr>\n",
       "      <th>3</th>\n",
       "      <td>3</td>\n",
       "      <td>06/04/2020</td>\n",
       "      <td>abril</td>\n",
       "      <td>11:38</td>\n",
       "      <td>NaN</td>\n",
       "      <td>DERRAPADO</td>\n",
       "      <td>EJE 10 SUR</td>\n",
       "      <td>AV SAN FCO</td>\n",
       "      <td>SAN FCO TLALTENCO</td>\n",
       "      <td>TLAHUAC</td>\n",
       "      <td>...</td>\n",
       "      <td>0.0</td>\n",
       "      <td>0.0</td>\n",
       "      <td>0.0</td>\n",
       "      <td>0.0</td>\n",
       "      <td>1.0</td>\n",
       "      <td>0.0</td>\n",
       "      <td>0.0</td>\n",
       "      <td>NaN</td>\n",
       "      <td>POLICONTUNDIDO</td>\n",
       "      <td>RADIO</td>\n",
       "    </tr>\n",
       "    <tr>\n",
       "      <th>4</th>\n",
       "      <td>4</td>\n",
       "      <td>06/04/2020</td>\n",
       "      <td>abril</td>\n",
       "      <td>13:31</td>\n",
       "      <td>NaN</td>\n",
       "      <td>DERRAPADO</td>\n",
       "      <td>AV HOMERO</td>\n",
       "      <td>SOFOCLES</td>\n",
       "      <td>LOS MORALES</td>\n",
       "      <td>MIGUEL HIDALGO</td>\n",
       "      <td>...</td>\n",
       "      <td>0.0</td>\n",
       "      <td>0.0</td>\n",
       "      <td>0.0</td>\n",
       "      <td>0.0</td>\n",
       "      <td>1.0</td>\n",
       "      <td>0.0</td>\n",
       "      <td>0.0</td>\n",
       "      <td>NaN</td>\n",
       "      <td>CX RODILLA IZQ</td>\n",
       "      <td>911 CDMX</td>\n",
       "    </tr>\n",
       "  </tbody>\n",
       "</table>\n",
       "<p>5 rows × 77 columns</p>\n",
       "</div>"
      ],
      "text/plain": [
       "   id fecha_evento    mes   hora condicion tipo_de_evento         punto_1  \\\n",
       "0   0   06/04/2020  abril  12:50       NaN         CHOQUE       EJE 7 SUR   \n",
       "1   1   06/04/2020  abril  18:31       NaN         CHOQUE  CALZ DEL HUESO   \n",
       "2   2   06/04/2020  abril  18:39       NaN         CHOQUE       EJE 5 NTE   \n",
       "3   3   06/04/2020  abril  11:38       NaN      DERRAPADO      EJE 10 SUR   \n",
       "4   4   06/04/2020  abril  13:31       NaN      DERRAPADO       AV HOMERO   \n",
       "\n",
       "                     punto_2                  colonia          alcaldia  ...  \\\n",
       "0                   ANTILLAS             PORTALES NTE     BENITO JUAREZ  ...   \n",
       "1            RANCHO COLORADO        COAPA STA CECILIA          COYOACAN  ...   \n",
       "2  AV GRAN CANAL DEL DESAGUE  JOSE MA MORELOS Y PAVON  GUSTAVO A MADERO  ...   \n",
       "3                 AV SAN FCO        SAN FCO TLALTENCO           TLAHUAC  ...   \n",
       "4                   SOFOCLES              LOS MORALES    MIGUEL HIDALGO  ...   \n",
       "\n",
       "  ciclista_lesionado pasajero_occiso pasajero_lesionado motociclista_occiso  \\\n",
       "0                1.0             0.0                0.0                 0.0   \n",
       "1                0.0             0.0                0.0                 0.0   \n",
       "2                0.0             0.0                0.0                 0.0   \n",
       "3                0.0             0.0                0.0                 0.0   \n",
       "4                0.0             0.0                0.0                 0.0   \n",
       "\n",
       "  motociclista_lesionado conductor_occiso conductor_lesionado  \\\n",
       "0                    0.0              0.0                 0.0   \n",
       "1                    1.0              0.0                 0.0   \n",
       "2                    1.0              0.0                 0.0   \n",
       "3                    1.0              0.0                 0.0   \n",
       "4                    1.0              0.0                 0.0   \n",
       "\n",
       "  diagnostico_occiso diagnostico_lesionado    origen  \n",
       "0                NaN        POLICONTUNDIDO     RADIO  \n",
       "1                NaN        POLICONTUNDIDO  911 CDMX  \n",
       "2                NaN               HX BOCA  911 CDMX  \n",
       "3                NaN        POLICONTUNDIDO     RADIO  \n",
       "4                NaN        CX RODILLA IZQ  911 CDMX  \n",
       "\n",
       "[5 rows x 77 columns]"
      ]
     },
     "execution_count": 2,
     "metadata": {},
     "output_type": "execute_result"
    }
   ],
   "source": [
    "df = pd.read_csv (r'transito.csv',low_memory=False)\n",
    "df.head()"
   ]
  },
  {
   "cell_type": "code",
   "execution_count": 4,
   "id": "29da19c0",
   "metadata": {},
   "outputs": [
    {
     "name": "stdout",
     "output_type": "stream",
     "text": [
      "<class 'pandas.core.frame.DataFrame'>\n",
      "RangeIndex: 51484 entries, 0 to 51483\n",
      "Data columns (total 77 columns):\n",
      " #   Column                                      Non-Null Count  Dtype  \n",
      "---  ------                                      --------------  -----  \n",
      " 0   id                                          51484 non-null  int64  \n",
      " 1   fecha_evento                                51484 non-null  object \n",
      " 2   mes                                         51484 non-null  object \n",
      " 3   hora                                        51484 non-null  object \n",
      " 4   condicion                                   35043 non-null  object \n",
      " 5   tipo_de_evento                              51484 non-null  object \n",
      " 6   punto_1                                     51484 non-null  object \n",
      " 7   punto_2                                     51484 non-null  object \n",
      " 8   colonia                                     51484 non-null  object \n",
      " 9   alcaldia                                    51484 non-null  object \n",
      " 10  tipo_de_interseccion                        51484 non-null  object \n",
      " 11  tipo_de_vehiculo_1                          51484 non-null  object \n",
      " 12  tipo_de_vehiculo_2                          27386 non-null  object \n",
      " 13  tipo_de_vehiculo_3                          1189 non-null   object \n",
      " 14  tipo_de_vehiculo_4                          98 non-null     object \n",
      " 15  marca_de_vehiculo_1                         51431 non-null  object \n",
      " 16  marca_de_vehiculo_2                         25631 non-null  object \n",
      " 17  marca_de_vehiculo_3                         1112 non-null   object \n",
      " 18  marca_de_vehiculo_4                         97 non-null     object \n",
      " 19  lesiones                                    35043 non-null  object \n",
      " 20  edad_occiso                                 1172 non-null   object \n",
      " 21  edad_lesionado                              50605 non-null  object \n",
      " 22  se_desconoce_occiso                         51484 non-null  int64  \n",
      " 23  se_desconoce_lesionado                      51484 non-null  int64  \n",
      " 24  rango_de_edades_menores_de_1_ano_lesionado  51484 non-null  int64  \n",
      " 25  rango_edades_1_4_occiso                     51484 non-null  int64  \n",
      " 26  rango_edades_1_4_lesionado                  51484 non-null  int64  \n",
      " 27  rango_edades_5_14_occiso                    51484 non-null  int64  \n",
      " 28  rango_edades_5_14_lesionado                 51484 non-null  int64  \n",
      " 29  rango_edades_15_24_occiso                   51484 non-null  int64  \n",
      " 30  rango_edades_15_24_lesionado                51484 non-null  int64  \n",
      " 31  rango_edades_25_34_occiso                   51484 non-null  int64  \n",
      " 32  rango_edades_25_34_lesionado                51484 non-null  int64  \n",
      " 33  rango_edades_35_44_occiso                   51484 non-null  int64  \n",
      " 34  rango_edades_35_44_lesionado                51484 non-null  int64  \n",
      " 35  rango_edades_45_64_occiso                   51484 non-null  int64  \n",
      " 36  rango_edades_45_64_lesionado                51484 non-null  int64  \n",
      " 37  rango_edades_65_occiso                      51484 non-null  int64  \n",
      " 38  rango_edades_65_lesionado                   51484 non-null  int64  \n",
      " 39  total_occisos                               51484 non-null  int64  \n",
      " 40  occisos_femeninos                           51484 non-null  int64  \n",
      " 41  occisos_masculinos                          51484 non-null  int64  \n",
      " 42  occiso_se_desconoce                         51484 non-null  int64  \n",
      " 43  total_lesionados                            51484 non-null  int64  \n",
      " 44  lesionados_femeninos                        51484 non-null  int64  \n",
      " 45  lesionados_masculinos                       51484 non-null  int64  \n",
      " 46  lesionado_se_desconoce                      51484 non-null  int64  \n",
      " 47  identidad                                   35043 non-null  object \n",
      " 48  unidad_medica_de_apoyo                      51483 non-null  object \n",
      " 49  lugar_del_deceso                            1090 non-null   object \n",
      " 50  trasladado_s_lesionado                      51483 non-null  object \n",
      " 51  hospital                                    14097 non-null  object \n",
      " 52  dia                                         51484 non-null  object \n",
      " 53  hora2                                       51475 non-null  float64\n",
      " 54  prioridad                                   51484 non-null  object \n",
      " 55  observaciones                               5570 non-null   object \n",
      " 56  fecha_captura                               51484 non-null  object \n",
      " 57  interseccion_semaforizada                   16441 non-null  object \n",
      " 58  clasificacion_de_la_vialidad                16441 non-null  object \n",
      " 59  sentido_de_circulacion                      16441 non-null  object \n",
      " 60  color_vehiculo_1                            16392 non-null  object \n",
      " 61  color_vehiculo_2                            8678 non-null   object \n",
      " 62  color_vehiculo_3                            2016 non-null   object \n",
      " 63  ruta_de_transporte_publico                  2749 non-null   object \n",
      " 64  peaton_occiso                               16441 non-null  float64\n",
      " 65  peaton_lesionado                            16441 non-null  float64\n",
      " 66  ciclista_occiso                             16441 non-null  float64\n",
      " 67  ciclista_lesionado                          16441 non-null  float64\n",
      " 68  pasajero_occiso                             16441 non-null  float64\n",
      " 69  pasajero_lesionado                          16441 non-null  float64\n",
      " 70  motociclista_occiso                         16441 non-null  float64\n",
      " 71  motociclista_lesionado                      16441 non-null  float64\n",
      " 72  conductor_occiso                            16441 non-null  float64\n",
      " 73  conductor_lesionado                         16441 non-null  float64\n",
      " 74  diagnostico_occiso                          364 non-null    object \n",
      " 75  diagnostico_lesionado                       16168 non-null  object \n",
      " 76  origen                                      16441 non-null  object \n",
      "dtypes: float64(11), int64(26), object(40)\n",
      "memory usage: 30.2+ MB\n"
     ]
    }
   ],
   "source": [
    "df.info()"
   ]
  },
  {
   "cell_type": "markdown",
   "id": "c55ccc33",
   "metadata": {},
   "source": [
    "# 1. Probabilidad de ocurrencia de eventos por colonia y por tipo de intersección"
   ]
  },
  {
   "cell_type": "markdown",
   "id": "7f89d62f",
   "metadata": {},
   "source": [
    "Primero la probabilidad por colonia"
   ]
  },
  {
   "cell_type": "code",
   "execution_count": 6,
   "id": "937e924b",
   "metadata": {
    "scrolled": true
   },
   "outputs": [
    {
     "data": {
      "text/html": [
       "<div>\n",
       "<style scoped>\n",
       "    .dataframe tbody tr th:only-of-type {\n",
       "        vertical-align: middle;\n",
       "    }\n",
       "\n",
       "    .dataframe tbody tr th {\n",
       "        vertical-align: top;\n",
       "    }\n",
       "\n",
       "    .dataframe thead th {\n",
       "        text-align: right;\n",
       "    }\n",
       "</style>\n",
       "<table border=\"1\" class=\"dataframe\">\n",
       "  <thead>\n",
       "    <tr style=\"text-align: right;\">\n",
       "      <th></th>\n",
       "      <th>Prob. por colonia</th>\n",
       "    </tr>\n",
       "  </thead>\n",
       "  <tbody>\n",
       "    <tr>\n",
       "      <th>CENTRO</th>\n",
       "      <td>0.032379</td>\n",
       "    </tr>\n",
       "    <tr>\n",
       "      <th>MORELOS</th>\n",
       "      <td>0.010974</td>\n",
       "    </tr>\n",
       "    <tr>\n",
       "      <th>DOCTORES</th>\n",
       "      <td>0.010644</td>\n",
       "    </tr>\n",
       "    <tr>\n",
       "      <th>AGRICOLA ORIENTAL</th>\n",
       "      <td>0.010586</td>\n",
       "    </tr>\n",
       "    <tr>\n",
       "      <th>JUAREZ</th>\n",
       "      <td>0.010061</td>\n",
       "    </tr>\n",
       "    <tr>\n",
       "      <th>...</th>\n",
       "      <td>...</td>\n",
       "    </tr>\n",
       "    <tr>\n",
       "      <th>LA FORESTAL 1</th>\n",
       "      <td>0.000019</td>\n",
       "    </tr>\n",
       "    <tr>\n",
       "      <th>DEPORTIVO C E T</th>\n",
       "      <td>0.000019</td>\n",
       "    </tr>\n",
       "    <tr>\n",
       "      <th>STA CRUZ DE GUADALUPE</th>\n",
       "      <td>0.000019</td>\n",
       "    </tr>\n",
       "    <tr>\n",
       "      <th>PRADO COAPA 2DA SECC</th>\n",
       "      <td>0.000019</td>\n",
       "    </tr>\n",
       "    <tr>\n",
       "      <th>STA MARTHA ACATITLA SUR</th>\n",
       "      <td>0.000019</td>\n",
       "    </tr>\n",
       "  </tbody>\n",
       "</table>\n",
       "<p>2996 rows × 1 columns</p>\n",
       "</div>"
      ],
      "text/plain": [
       "                         Prob. por colonia\n",
       "CENTRO                            0.032379\n",
       "MORELOS                           0.010974\n",
       "DOCTORES                          0.010644\n",
       "AGRICOLA ORIENTAL                 0.010586\n",
       "JUAREZ                            0.010061\n",
       "...                                    ...\n",
       "LA FORESTAL 1                     0.000019\n",
       "DEPORTIVO C E T                   0.000019\n",
       "STA CRUZ DE GUADALUPE             0.000019\n",
       "PRADO COAPA 2DA SECC              0.000019\n",
       "STA MARTHA ACATITLA SUR           0.000019\n",
       "\n",
       "[2996 rows x 1 columns]"
      ]
     },
     "execution_count": 6,
     "metadata": {},
     "output_type": "execute_result"
    }
   ],
   "source": [
    "casos_por_colonia=df[\"colonia\"].value_counts()\n",
    "N=len(df)\n",
    "probabilidad_de_casos_por_colonia=casos_por_colonia/N\n",
    "df_colonia=pd.DataFrame(probabilidad_de_casos_por_colonia)\n",
    "df_colonia.rename(columns={\"colonia\":\"Prob. por colonia\"})"
   ]
  },
  {
   "cell_type": "code",
   "execution_count": 7,
   "id": "0231c322",
   "metadata": {
    "scrolled": true
   },
   "outputs": [
    {
     "data": {
      "text/plain": [
       "1.000000000000025"
      ]
     },
     "execution_count": 7,
     "metadata": {},
     "output_type": "execute_result"
    }
   ],
   "source": [
    "sum(probabilidad_de_casos_por_colonia) #verificando que sumen 1"
   ]
  },
  {
   "cell_type": "markdown",
   "id": "2a7450f1",
   "metadata": {},
   "source": [
    "Ahora la probabilidad por tipo de intersección"
   ]
  },
  {
   "cell_type": "code",
   "execution_count": 8,
   "id": "72a0aad8",
   "metadata": {},
   "outputs": [
    {
     "data": {
      "text/html": [
       "<div>\n",
       "<style scoped>\n",
       "    .dataframe tbody tr th:only-of-type {\n",
       "        vertical-align: middle;\n",
       "    }\n",
       "\n",
       "    .dataframe tbody tr th {\n",
       "        vertical-align: top;\n",
       "    }\n",
       "\n",
       "    .dataframe thead th {\n",
       "        text-align: right;\n",
       "    }\n",
       "</style>\n",
       "<table border=\"1\" class=\"dataframe\">\n",
       "  <thead>\n",
       "    <tr style=\"text-align: right;\">\n",
       "      <th></th>\n",
       "      <th>Prob. por interseccion</th>\n",
       "    </tr>\n",
       "  </thead>\n",
       "  <tbody>\n",
       "    <tr>\n",
       "      <th>CRUZ</th>\n",
       "      <td>0.511984</td>\n",
       "    </tr>\n",
       "    <tr>\n",
       "      <th>T</th>\n",
       "      <td>0.351643</td>\n",
       "    </tr>\n",
       "    <tr>\n",
       "      <th>Y</th>\n",
       "      <td>0.042130</td>\n",
       "    </tr>\n",
       "    <tr>\n",
       "      <th>RAMAS MULTIPLES</th>\n",
       "      <td>0.035778</td>\n",
       "    </tr>\n",
       "    <tr>\n",
       "      <th>RECTA</th>\n",
       "      <td>0.031136</td>\n",
       "    </tr>\n",
       "    <tr>\n",
       "      <th>GLORIETA</th>\n",
       "      <td>0.011013</td>\n",
       "    </tr>\n",
       "    <tr>\n",
       "      <th>DESNIVEL</th>\n",
       "      <td>0.010197</td>\n",
       "    </tr>\n",
       "    <tr>\n",
       "      <th>GAZA</th>\n",
       "      <td>0.004642</td>\n",
       "    </tr>\n",
       "    <tr>\n",
       "      <th>CURVA</th>\n",
       "      <td>0.001476</td>\n",
       "    </tr>\n",
       "  </tbody>\n",
       "</table>\n",
       "</div>"
      ],
      "text/plain": [
       "                 Prob. por interseccion\n",
       "CRUZ                           0.511984\n",
       "T                              0.351643\n",
       "Y                              0.042130\n",
       "RAMAS MULTIPLES                0.035778\n",
       "RECTA                          0.031136\n",
       "GLORIETA                       0.011013\n",
       "DESNIVEL                       0.010197\n",
       "GAZA                           0.004642\n",
       "CURVA                          0.001476"
      ]
     },
     "execution_count": 8,
     "metadata": {},
     "output_type": "execute_result"
    }
   ],
   "source": [
    "casos_por_tipo_de_intersección=df[\"tipo_de_interseccion\"].value_counts()\n",
    "probabilidad_de_casos_por_tipo_de_intersección=casos_por_tipo_de_intersección/N\n",
    "df_interseccion=pd.DataFrame(probabilidad_de_casos_por_tipo_de_intersección)\n",
    "df_interseccion.rename(columns={\"tipo_de_interseccion\":\"Prob. por interseccion\"},inplace=True)\n",
    "df_interseccion"
   ]
  },
  {
   "cell_type": "code",
   "execution_count": 9,
   "id": "c397cd4d",
   "metadata": {
    "scrolled": true
   },
   "outputs": [
    {
     "data": {
      "text/plain": [
       "0.9999999999999999"
      ]
     },
     "execution_count": 9,
     "metadata": {},
     "output_type": "execute_result"
    }
   ],
   "source": [
    "sum(probabilidad_de_casos_por_tipo_de_intersección) #verificando que sumen 1"
   ]
  },
  {
   "cell_type": "markdown",
   "id": "e362d632",
   "metadata": {},
   "source": [
    "## Gráfica - Probabilidad por alcaldía"
   ]
  },
  {
   "cell_type": "markdown",
   "id": "cfdbc44c",
   "metadata": {},
   "source": [
    "Se muestran las probabilidades por alcaldía en una gráfica tipo tarta ya que las colinias son demasiadas para graficarlas"
   ]
  },
  {
   "cell_type": "code",
   "execution_count": 10,
   "id": "56085ae9",
   "metadata": {
    "scrolled": false
   },
   "outputs": [
    {
     "data": {
      "image/png": "[encoded data removed]",
      "text/plain": [
       "<Figure size 1440x720 with 1 Axes>"
      ]
     },
     "metadata": {},
     "output_type": "display_data"
    }
   ],
   "source": [
    "plt.figure(figsize=(20, 10))\n",
    "casos_por_alcaldia=df[\"alcaldia\"].value_counts()\n",
    "probabilidad_de_casos_por_alcaldia=casos_por_alcaldia/N\n",
    "df_alcaldia=pd.DataFrame(probabilidad_de_casos_por_alcaldia)\n",
    "plot1=df_alcaldia.reset_index().rename(columns={\"index\":\"Alcaldía\",\"alcaldia\":\"Prob. por alcaldia\"})\n",
    "colors = sns.color_palette('pastel')[0:10]\n",
    "plt.pie(plot1[\"Prob. por alcaldia\"], labels = plot1[\"Alcaldía\"], colors = colors, autopct='%.0f%%')\n",
    "plt.show()"
   ]
  },
  {
   "cell_type": "markdown",
   "id": "4b73ffb7",
   "metadata": {},
   "source": [
    "## Gráfica - Probabilidad por tipo de intersección"
   ]
  },
  {
   "cell_type": "markdown",
   "id": "290ed075",
   "metadata": {},
   "source": [
    "La mayoría de eventos ocurren en las intersecciones tipo cruz."
   ]
  },
  {
   "cell_type": "code",
   "execution_count": 11,
   "id": "8ad88322",
   "metadata": {
    "scrolled": false
   },
   "outputs": [
    {
     "data": {
      "image/png": "[encoded data removed]",
      "text/plain": [
       "<Figure size 1440x720 with 1 Axes>"
      ]
     },
     "metadata": {
      "needs_background": "light"
     },
     "output_type": "display_data"
    }
   ],
   "source": [
    "plt.figure(figsize=(20, 10))\n",
    "plot2=df_interseccion.reset_index().rename(columns={\"index\":\"Intersección\"})\n",
    "sns.barplot(x=\"Intersección\",y=\"Prob. por interseccion\",data=plot2);"
   ]
  },
  {
   "cell_type": "markdown",
   "id": "da62b62c",
   "metadata": {},
   "source": [
    "# 2. Probabilidad conjunta por tipo de intersección y vehículo"
   ]
  },
  {
   "cell_type": "markdown",
   "id": "74f18b0d",
   "metadata": {},
   "source": [
    "Para resolver este problema demostraremos que los eventos son dependientes: \n",
    "\n",
    "Sea \n",
    "\n",
    "A = Que un evento se de en un tipo de vehículo    y    B = Que un evento se de en un tipo de intersección\n",
    "    \n",
    "A y B son dependientes si\n",
    "\n",
    "$$\n",
    "P(A|B) \\neq P(A) \\hspace{1cm} P(B|A) \\neq P(B)\n",
    "$$\n",
    "\n",
    "Obtengamos entonces la probabilidad de los eventos para los distintos tipos de vehículos e intersecciones"
   ]
  },
  {
   "cell_type": "code",
   "execution_count": 17,
   "id": "635105e6",
   "metadata": {
    "scrolled": true
   },
   "outputs": [
    {
     "data": {
      "text/html": [
       "<div>\n",
       "<style scoped>\n",
       "    .dataframe tbody tr th:only-of-type {\n",
       "        vertical-align: middle;\n",
       "    }\n",
       "\n",
       "    .dataframe tbody tr th {\n",
       "        vertical-align: top;\n",
       "    }\n",
       "\n",
       "    .dataframe thead th {\n",
       "        text-align: right;\n",
       "    }\n",
       "</style>\n",
       "<table border=\"1\" class=\"dataframe\">\n",
       "  <thead>\n",
       "    <tr style=\"text-align: right;\">\n",
       "      <th></th>\n",
       "      <th>probabilidad</th>\n",
       "      <th>eventos</th>\n",
       "    </tr>\n",
       "    <tr>\n",
       "      <th>tipo de vehiculo</th>\n",
       "      <th></th>\n",
       "      <th></th>\n",
       "    </tr>\n",
       "  </thead>\n",
       "  <tbody>\n",
       "    <tr>\n",
       "      <th>AUTOMOVIL</th>\n",
       "      <td>0.395836</td>\n",
       "      <td>31729</td>\n",
       "    </tr>\n",
       "    <tr>\n",
       "      <th>MOTOCICLETA</th>\n",
       "      <td>0.303517</td>\n",
       "      <td>24329</td>\n",
       "    </tr>\n",
       "    <tr>\n",
       "      <th>SD</th>\n",
       "      <td>0.089998</td>\n",
       "      <td>7214</td>\n",
       "    </tr>\n",
       "    <tr>\n",
       "      <th>TAXI</th>\n",
       "      <td>0.054219</td>\n",
       "      <td>4346</td>\n",
       "    </tr>\n",
       "    <tr>\n",
       "      <th>BICICLETA</th>\n",
       "      <td>0.040508</td>\n",
       "      <td>3247</td>\n",
       "    </tr>\n",
       "    <tr>\n",
       "      <th>CAMION DE CARGA</th>\n",
       "      <td>0.034407</td>\n",
       "      <td>2758</td>\n",
       "    </tr>\n",
       "    <tr>\n",
       "      <th>AUTOBUS DE PASAJEROS</th>\n",
       "      <td>0.022967</td>\n",
       "      <td>1841</td>\n",
       "    </tr>\n",
       "    <tr>\n",
       "      <th>OBJETO FIJO</th>\n",
       "      <td>0.018788</td>\n",
       "      <td>1506</td>\n",
       "    </tr>\n",
       "    <tr>\n",
       "      <th>MICROBUS</th>\n",
       "      <td>0.017803</td>\n",
       "      <td>1427</td>\n",
       "    </tr>\n",
       "    <tr>\n",
       "      <th>CAMIONETA</th>\n",
       "      <td>0.013873</td>\n",
       "      <td>1112</td>\n",
       "    </tr>\n",
       "    <tr>\n",
       "      <th>METROBUS</th>\n",
       "      <td>0.006587</td>\n",
       "      <td>528</td>\n",
       "    </tr>\n",
       "    <tr>\n",
       "      <th>TROLEBUS</th>\n",
       "      <td>0.001123</td>\n",
       "      <td>90</td>\n",
       "    </tr>\n",
       "    <tr>\n",
       "      <th>MONOPATIN</th>\n",
       "      <td>0.000225</td>\n",
       "      <td>18</td>\n",
       "    </tr>\n",
       "    <tr>\n",
       "      <th>TREN LIGERO</th>\n",
       "      <td>0.000075</td>\n",
       "      <td>6</td>\n",
       "    </tr>\n",
       "    <tr>\n",
       "      <th>TREN</th>\n",
       "      <td>0.000050</td>\n",
       "      <td>4</td>\n",
       "    </tr>\n",
       "    <tr>\n",
       "      <th>FERROCARRIL</th>\n",
       "      <td>0.000012</td>\n",
       "      <td>1</td>\n",
       "    </tr>\n",
       "    <tr>\n",
       "      <th>TREN SUBURBANO</th>\n",
       "      <td>0.000012</td>\n",
       "      <td>1</td>\n",
       "    </tr>\n",
       "  </tbody>\n",
       "</table>\n",
       "</div>"
      ],
      "text/plain": [
       "                      probabilidad  eventos\n",
       "tipo de vehiculo                           \n",
       "AUTOMOVIL                 0.395836    31729\n",
       "MOTOCICLETA               0.303517    24329\n",
       "SD                        0.089998     7214\n",
       "TAXI                      0.054219     4346\n",
       "BICICLETA                 0.040508     3247\n",
       "CAMION DE CARGA           0.034407     2758\n",
       "AUTOBUS DE PASAJEROS      0.022967     1841\n",
       "OBJETO FIJO               0.018788     1506\n",
       "MICROBUS                  0.017803     1427\n",
       "CAMIONETA                 0.013873     1112\n",
       "METROBUS                  0.006587      528\n",
       "TROLEBUS                  0.001123       90\n",
       "MONOPATIN                 0.000225       18\n",
       "TREN LIGERO               0.000075        6\n",
       "TREN                      0.000050        4\n",
       "FERROCARRIL               0.000012        1\n",
       "TREN SUBURBANO            0.000012        1"
      ]
     },
     "execution_count": 17,
     "metadata": {},
     "output_type": "execute_result"
    }
   ],
   "source": [
    "freq_tipo_vehiculo_1=list(df[['tipo_de_vehiculo_1']].values)\n",
    "freq_tipo_vehiculo_2=list(df[['tipo_de_vehiculo_2']].values)\n",
    "freq_tipo_vehiculo_3=list(df[['tipo_de_vehiculo_3']].values)\n",
    "freq_tipo_vehiculo_4=list(df[['tipo_de_vehiculo_4']].values)\n",
    "freq_tipo_vehiculo=freq_tipo_vehiculo_1+freq_tipo_vehiculo_2+freq_tipo_vehiculo_3+freq_tipo_vehiculo_4\n",
    "freq_tipo_vehiculo_total=pd.DataFrame(freq_tipo_vehiculo,columns=[\"tipo de vehiculo\"])\n",
    "casos_por_tipo_de_vehiculo=freq_tipo_vehiculo_total.value_counts()\n",
    "N_v=sum(casos_por_tipo_de_vehiculo)\n",
    "prob_tipo_vehiculo=pd.DataFrame(freq_tipo_vehiculo_total.value_counts()/N_v,columns=[\"probabilidad\"])\n",
    "prob_tipo_vehiculo[\"eventos\"]=pd.DataFrame(freq_tipo_vehiculo_total.value_counts())\n",
    "prob_tipo_vehiculo"
   ]
  },
  {
   "cell_type": "code",
   "execution_count": 18,
   "id": "e972032f",
   "metadata": {
    "scrolled": true
   },
   "outputs": [
    {
     "data": {
      "text/html": [
       "<div>\n",
       "<style scoped>\n",
       "    .dataframe tbody tr th:only-of-type {\n",
       "        vertical-align: middle;\n",
       "    }\n",
       "\n",
       "    .dataframe tbody tr th {\n",
       "        vertical-align: top;\n",
       "    }\n",
       "\n",
       "    .dataframe thead th {\n",
       "        text-align: right;\n",
       "    }\n",
       "</style>\n",
       "<table border=\"1\" class=\"dataframe\">\n",
       "  <thead>\n",
       "    <tr style=\"text-align: right;\">\n",
       "      <th></th>\n",
       "      <th>probabilidad</th>\n",
       "      <th>eventos</th>\n",
       "    </tr>\n",
       "    <tr>\n",
       "      <th>tipo de intersección</th>\n",
       "      <th></th>\n",
       "      <th></th>\n",
       "    </tr>\n",
       "  </thead>\n",
       "  <tbody>\n",
       "    <tr>\n",
       "      <th>CRUZ</th>\n",
       "      <td>0.511984</td>\n",
       "      <td>26359</td>\n",
       "    </tr>\n",
       "    <tr>\n",
       "      <th>T</th>\n",
       "      <td>0.351643</td>\n",
       "      <td>18104</td>\n",
       "    </tr>\n",
       "    <tr>\n",
       "      <th>Y</th>\n",
       "      <td>0.042130</td>\n",
       "      <td>2169</td>\n",
       "    </tr>\n",
       "    <tr>\n",
       "      <th>RAMAS MULTIPLES</th>\n",
       "      <td>0.035778</td>\n",
       "      <td>1842</td>\n",
       "    </tr>\n",
       "    <tr>\n",
       "      <th>RECTA</th>\n",
       "      <td>0.031136</td>\n",
       "      <td>1603</td>\n",
       "    </tr>\n",
       "    <tr>\n",
       "      <th>GLORIETA</th>\n",
       "      <td>0.011013</td>\n",
       "      <td>567</td>\n",
       "    </tr>\n",
       "    <tr>\n",
       "      <th>DESNIVEL</th>\n",
       "      <td>0.010197</td>\n",
       "      <td>525</td>\n",
       "    </tr>\n",
       "    <tr>\n",
       "      <th>GAZA</th>\n",
       "      <td>0.004642</td>\n",
       "      <td>239</td>\n",
       "    </tr>\n",
       "    <tr>\n",
       "      <th>CURVA</th>\n",
       "      <td>0.001476</td>\n",
       "      <td>76</td>\n",
       "    </tr>\n",
       "  </tbody>\n",
       "</table>\n",
       "</div>"
      ],
      "text/plain": [
       "                      probabilidad  eventos\n",
       "tipo de intersección                       \n",
       "CRUZ                      0.511984    26359\n",
       "T                         0.351643    18104\n",
       "Y                         0.042130     2169\n",
       "RAMAS MULTIPLES           0.035778     1842\n",
       "RECTA                     0.031136     1603\n",
       "GLORIETA                  0.011013      567\n",
       "DESNIVEL                  0.010197      525\n",
       "GAZA                      0.004642      239\n",
       "CURVA                     0.001476       76"
      ]
     },
     "execution_count": 18,
     "metadata": {},
     "output_type": "execute_result"
    }
   ],
   "source": [
    "prob_tipo_int=pd.DataFrame(df['tipo_de_interseccion'].value_counts()/len(df))\n",
    "prob_tipo_int.rename(columns={'tipo_de_interseccion':\"probabilidad\"},inplace=True)\n",
    "freq_tipo_int=df['tipo_de_interseccion']\n",
    "prob_tipo_int[\"eventos\"]=pd.DataFrame(freq_tipo_int.value_counts())\n",
    "prob_tipo_int.index.name=\"tipo de intersección\"\n",
    "prob_tipo_int"
   ]
  },
  {
   "cell_type": "markdown",
   "id": "47e3e477",
   "metadata": {},
   "source": [
    "Ahora obtengamos la cantidad de eventos que se dan por cada intersección-vehículo"
   ]
  },
  {
   "cell_type": "code",
   "execution_count": 19,
   "id": "2fe488e7",
   "metadata": {
    "scrolled": false
   },
   "outputs": [
    {
     "data": {
      "text/html": [
       "<div>\n",
       "<style scoped>\n",
       "    .dataframe tbody tr th:only-of-type {\n",
       "        vertical-align: middle;\n",
       "    }\n",
       "\n",
       "    .dataframe tbody tr th {\n",
       "        vertical-align: top;\n",
       "    }\n",
       "\n",
       "    .dataframe thead th {\n",
       "        text-align: right;\n",
       "    }\n",
       "</style>\n",
       "<table border=\"1\" class=\"dataframe\">\n",
       "  <thead>\n",
       "    <tr style=\"text-align: right;\">\n",
       "      <th></th>\n",
       "      <th>tipo de vehiculo</th>\n",
       "      <th>tipo de interseccion</th>\n",
       "      <th>eventos</th>\n",
       "      <th>probabilidad conjunta</th>\n",
       "    </tr>\n",
       "  </thead>\n",
       "  <tbody>\n",
       "    <tr>\n",
       "      <th>9</th>\n",
       "      <td>AUTOMOVIL</td>\n",
       "      <td>CRUZ</td>\n",
       "      <td>16964</td>\n",
       "      <td>0.211635</td>\n",
       "    </tr>\n",
       "    <tr>\n",
       "      <th>68</th>\n",
       "      <td>MOTOCICLETA</td>\n",
       "      <td>CRUZ</td>\n",
       "      <td>12371</td>\n",
       "      <td>0.154335</td>\n",
       "    </tr>\n",
       "    <tr>\n",
       "      <th>16</th>\n",
       "      <td>AUTOMOVIL</td>\n",
       "      <td>T</td>\n",
       "      <td>10509</td>\n",
       "      <td>0.131105</td>\n",
       "    </tr>\n",
       "    <tr>\n",
       "      <th>75</th>\n",
       "      <td>MOTOCICLETA</td>\n",
       "      <td>T</td>\n",
       "      <td>8605</td>\n",
       "      <td>0.107352</td>\n",
       "    </tr>\n",
       "    <tr>\n",
       "      <th>86</th>\n",
       "      <td>SD</td>\n",
       "      <td>CRUZ</td>\n",
       "      <td>3644</td>\n",
       "      <td>0.045461</td>\n",
       "    </tr>\n",
       "    <tr>\n",
       "      <th>...</th>\n",
       "      <td>...</td>\n",
       "      <td>...</td>\n",
       "      <td>...</td>\n",
       "      <td>...</td>\n",
       "    </tr>\n",
       "    <tr>\n",
       "      <th>109</th>\n",
       "      <td>TREN SUBURBANO</td>\n",
       "      <td>T</td>\n",
       "      <td>1</td>\n",
       "      <td>0.000012</td>\n",
       "    </tr>\n",
       "    <tr>\n",
       "      <th>45</th>\n",
       "      <td>FERROCARRIL</td>\n",
       "      <td>RECTA</td>\n",
       "      <td>1</td>\n",
       "      <td>0.000012</td>\n",
       "    </tr>\n",
       "    <tr>\n",
       "      <th>111</th>\n",
       "      <td>TROLEBUS</td>\n",
       "      <td>DESNIVEL</td>\n",
       "      <td>1</td>\n",
       "      <td>0.000012</td>\n",
       "    </tr>\n",
       "    <tr>\n",
       "      <th>112</th>\n",
       "      <td>TROLEBUS</td>\n",
       "      <td>GLORIETA</td>\n",
       "      <td>1</td>\n",
       "      <td>0.000012</td>\n",
       "    </tr>\n",
       "    <tr>\n",
       "      <th>47</th>\n",
       "      <td>METROBUS</td>\n",
       "      <td>CURVA</td>\n",
       "      <td>1</td>\n",
       "      <td>0.000012</td>\n",
       "    </tr>\n",
       "  </tbody>\n",
       "</table>\n",
       "<p>117 rows × 4 columns</p>\n",
       "</div>"
      ],
      "text/plain": [
       "    tipo de vehiculo tipo de interseccion  eventos  probabilidad conjunta\n",
       "9          AUTOMOVIL                 CRUZ    16964               0.211635\n",
       "68       MOTOCICLETA                 CRUZ    12371               0.154335\n",
       "16         AUTOMOVIL                    T    10509               0.131105\n",
       "75       MOTOCICLETA                    T     8605               0.107352\n",
       "86                SD                 CRUZ     3644               0.045461\n",
       "..               ...                  ...      ...                    ...\n",
       "109   TREN SUBURBANO                    T        1               0.000012\n",
       "45       FERROCARRIL                RECTA        1               0.000012\n",
       "111         TROLEBUS             DESNIVEL        1               0.000012\n",
       "112         TROLEBUS             GLORIETA        1               0.000012\n",
       "47          METROBUS                CURVA        1               0.000012\n",
       "\n",
       "[117 rows x 4 columns]"
      ]
     },
     "execution_count": 19,
     "metadata": {},
     "output_type": "execute_result"
    }
   ],
   "source": [
    "freq_tipo_vehiculo_1=list(df[['tipo_de_vehiculo_1','tipo_de_interseccion']].values)\n",
    "freq_tipo_vehiculo_2=list(df[['tipo_de_vehiculo_2','tipo_de_interseccion']].values)\n",
    "freq_tipo_vehiculo_3=list(df[['tipo_de_vehiculo_3','tipo_de_interseccion']].values)\n",
    "freq_tipo_vehiculo_4=list(df[['tipo_de_vehiculo_4','tipo_de_interseccion']].values)\n",
    "freq_tipo_vehiculo=freq_tipo_vehiculo_1+freq_tipo_vehiculo_2+freq_tipo_vehiculo_3+freq_tipo_vehiculo_4\n",
    "freq_tipo_vehiculo=pd.DataFrame(freq_tipo_vehiculo,columns=[\"tipo de vehiculo\",\"tipo de interseccion\"])\n",
    "freq_tipo_vehiculo_count=freq_tipo_vehiculo.groupby(['tipo de vehiculo','tipo de interseccion']).size().reset_index().rename(columns={0:'eventos'}).sort_values('eventos',ascending=False)\n",
    "N_i_v=sum(freq_tipo_vehiculo_count[\"eventos\"])\n",
    "freq_tipo_vehiculo_count[\"probabilidad conjunta\"]=freq_tipo_vehiculo_count[\"eventos\"]/N_i_v\n",
    "freq_tipo_vehiculo_count"
   ]
  },
  {
   "cell_type": "markdown",
   "id": "0d282d43",
   "metadata": {},
   "source": [
    "Notemos entonces que la probabilidad de un evento al ir en automovil (por tomar un contraejemplo) es $P(A) = 0.395836$, obtengamos ahora\n",
    "\n",
    "$$\n",
    "P(A|B) = \\frac{P(A \\cap B)}{P(B)}\n",
    "$$\n",
    "\n",
    "Y consideremos a $B$ una intersección tipo cruz, entonces, como se muestra en las tablas de arriba $P(B) = 0.511984$ y $P(A \\cap B) = 0.211635$, así se tiene:\n",
    "\n",
    "$$\n",
    "P(A|B) = \\frac{0.211635}{0.511984} = 0.413362 \\neq P(A)\n",
    "$$\n",
    "\n",
    "análogamente para $P(B)$\n",
    "\n",
    "$$\n",
    "P(B|A) = \\frac{0.211635}{0.395836} = 0.534653 \\neq P(B)\n",
    "$$\n",
    "\n",
    "Por lo que los eventos son dependientes."
   ]
  },
  {
   "cell_type": "code",
   "execution_count": 20,
   "id": "6f619de8",
   "metadata": {},
   "outputs": [
    {
     "data": {
      "text/plain": [
       "0.9999999999999994"
      ]
     },
     "execution_count": 20,
     "metadata": {},
     "output_type": "execute_result"
    }
   ],
   "source": [
    "sum(freq_tipo_vehiculo_count[\"probabilidad conjunta\"]) #verificando que sumen 1"
   ]
  },
  {
   "cell_type": "markdown",
   "id": "57ceea19",
   "metadata": {},
   "source": [
    "# 3. Probabilidad de ocurrencia en la semana del 10 de mayo"
   ]
  },
  {
   "cell_type": "markdown",
   "id": "50573e20",
   "metadata": {},
   "source": [
    "Primero se formatea la columna fecha_evento para poder trabajar con fechas"
   ]
  },
  {
   "cell_type": "code",
   "execution_count": 21,
   "id": "7aca2289",
   "metadata": {},
   "outputs": [],
   "source": [
    "fechas_formateadas=[]\n",
    "for fecha in df[\"fecha_evento\"]:\n",
    "    datestring = fecha\n",
    "    d = datetime.datetime.strptime(datestring ,'%d/%m/%Y')\n",
    "    fechas_formateadas.append(d)\n",
    "df[\"fechas formateadas\"]=fechas_formateadas"
   ]
  },
  {
   "cell_type": "markdown",
   "id": "3a743a78",
   "metadata": {},
   "source": [
    "Ahora se obtiene la probabilidad de que ocurra un accidente para cada fecha"
   ]
  },
  {
   "cell_type": "code",
   "execution_count": 22,
   "id": "abc7e827",
   "metadata": {
    "scrolled": false
   },
   "outputs": [
    {
     "data": {
      "text/html": [
       "<div>\n",
       "<style scoped>\n",
       "    .dataframe tbody tr th:only-of-type {\n",
       "        vertical-align: middle;\n",
       "    }\n",
       "\n",
       "    .dataframe tbody tr th {\n",
       "        vertical-align: top;\n",
       "    }\n",
       "\n",
       "    .dataframe thead th {\n",
       "        text-align: right;\n",
       "    }\n",
       "</style>\n",
       "<table border=\"1\" class=\"dataframe\">\n",
       "  <thead>\n",
       "    <tr style=\"text-align: right;\">\n",
       "      <th></th>\n",
       "      <th>Prob. por dia</th>\n",
       "    </tr>\n",
       "  </thead>\n",
       "  <tbody>\n",
       "    <tr>\n",
       "      <th>2018-08-18</th>\n",
       "      <td>0.001806</td>\n",
       "    </tr>\n",
       "    <tr>\n",
       "      <th>2019-12-06</th>\n",
       "      <td>0.001670</td>\n",
       "    </tr>\n",
       "    <tr>\n",
       "      <th>2018-10-19</th>\n",
       "      <td>0.001573</td>\n",
       "    </tr>\n",
       "    <tr>\n",
       "      <th>2018-08-03</th>\n",
       "      <td>0.001573</td>\n",
       "    </tr>\n",
       "    <tr>\n",
       "      <th>2018-12-07</th>\n",
       "      <td>0.001554</td>\n",
       "    </tr>\n",
       "    <tr>\n",
       "      <th>...</th>\n",
       "      <td>...</td>\n",
       "    </tr>\n",
       "    <tr>\n",
       "      <th>2018-05-08</th>\n",
       "      <td>0.000311</td>\n",
       "    </tr>\n",
       "    <tr>\n",
       "      <th>2018-05-11</th>\n",
       "      <td>0.000272</td>\n",
       "    </tr>\n",
       "    <tr>\n",
       "      <th>2020-06-09</th>\n",
       "      <td>0.000272</td>\n",
       "    </tr>\n",
       "    <tr>\n",
       "      <th>2018-05-09</th>\n",
       "      <td>0.000175</td>\n",
       "    </tr>\n",
       "    <tr>\n",
       "      <th>2018-05-07</th>\n",
       "      <td>0.000078</td>\n",
       "    </tr>\n",
       "  </tbody>\n",
       "</table>\n",
       "<p>1096 rows × 1 columns</p>\n",
       "</div>"
      ],
      "text/plain": [
       "            Prob. por dia\n",
       "2018-08-18       0.001806\n",
       "2019-12-06       0.001670\n",
       "2018-10-19       0.001573\n",
       "2018-08-03       0.001573\n",
       "2018-12-07       0.001554\n",
       "...                   ...\n",
       "2018-05-08       0.000311\n",
       "2018-05-11       0.000272\n",
       "2020-06-09       0.000272\n",
       "2018-05-09       0.000175\n",
       "2018-05-07       0.000078\n",
       "\n",
       "[1096 rows x 1 columns]"
      ]
     },
     "execution_count": 22,
     "metadata": {},
     "output_type": "execute_result"
    }
   ],
   "source": [
    "casos_por_dia=df[\"fechas formateadas\"].value_counts()\n",
    "probabilidad_de_casos_por_dia=casos_por_dia/N\n",
    "df_dia=pd.DataFrame(probabilidad_de_casos_por_dia)\n",
    "df_dia.rename(columns={\"fechas formateadas\":\"Prob. por dia\"})"
   ]
  },
  {
   "cell_type": "code",
   "execution_count": 23,
   "id": "25cd8e80",
   "metadata": {},
   "outputs": [
    {
     "data": {
      "text/plain": [
       "1.0000000000000018"
      ]
     },
     "execution_count": 23,
     "metadata": {},
     "output_type": "execute_result"
    }
   ],
   "source": [
    "sum(probabilidad_de_casos_por_dia) # verificando que sumen 1"
   ]
  },
  {
   "cell_type": "markdown",
   "id": "30cd96d7",
   "metadata": {},
   "source": [
    "A continuación se calcula la probabilidad de que se de un accidente en la semana que incluye al 10 de mayo. Para esto primero se evalúa si el día está en la semana  del 10 de mayo, luego se suman las probabilidades de los días que sí están en dicha semana."
   ]
  },
  {
   "cell_type": "code",
   "execution_count": 24,
   "id": "76f9ac69",
   "metadata": {
    "scrolled": true
   },
   "outputs": [],
   "source": [
    "fechas_en_10_de_mayo=[]\n",
    "probabilidad_semana_10_de_mayo=0\n",
    "for fecha in df_dia.index:\n",
    "# La siguiente línea ve si el día está en la semana del 10 de mayo\n",
    "    if fecha.isocalendar()[1] == datetime.datetime.strptime(\"10/5/\"+fecha.strftime('%Y'),'%d/%m/%Y').isocalendar()[1]: \n",
    "        fechas_en_10_de_mayo.append(str(fecha)[:10])\n",
    "        probabilidad_semana_10_de_mayo+=df_dia.loc[str(fecha)[:10],\"fechas formateadas\"][0] #se suman las probabilidades"
   ]
  },
  {
   "cell_type": "markdown",
   "id": "5aec4072",
   "metadata": {},
   "source": [
    "Estas son las fechas donde se dan accidentes que están en una semana que incluye al 10 de mayo"
   ]
  },
  {
   "cell_type": "code",
   "execution_count": 25,
   "id": "ac4e9585",
   "metadata": {
    "scrolled": false
   },
   "outputs": [
    {
     "data": {
      "text/plain": [
       "['2019-05-09',\n",
       " '2019-05-07',\n",
       " '2019-05-12',\n",
       " '2019-05-06',\n",
       " '2019-05-08',\n",
       " '2019-05-11',\n",
       " '2019-05-10',\n",
       " '2020-05-07',\n",
       " '2020-05-04',\n",
       " '2020-05-05',\n",
       " '2020-05-09',\n",
       " '2018-05-12',\n",
       " '2018-05-13',\n",
       " '2020-05-10',\n",
       " '2020-05-08',\n",
       " '2020-05-06',\n",
       " '2018-05-10',\n",
       " '2018-05-08',\n",
       " '2018-05-11',\n",
       " '2018-05-09',\n",
       " '2018-05-07']"
      ]
     },
     "execution_count": 25,
     "metadata": {},
     "output_type": "execute_result"
    }
   ],
   "source": [
    "fechas_en_10_de_mayo"
   ]
  },
  {
   "cell_type": "markdown",
   "id": "57bb8fdd",
   "metadata": {},
   "source": [
    "La probabilidad de que se de un accidente en la semana del 10 de mayo es de $1.204\\%$ como se muestra en la siguiente celda"
   ]
  },
  {
   "cell_type": "code",
   "execution_count": 26,
   "id": "0931550c",
   "metadata": {},
   "outputs": [
    {
     "data": {
      "text/plain": [
       "0.012042576334395153"
      ]
     },
     "execution_count": 26,
     "metadata": {},
     "output_type": "execute_result"
    }
   ],
   "source": [
    "probabilidad_semana_10_de_mayo"
   ]
  },
  {
   "cell_type": "markdown",
   "id": "2c993c88",
   "metadata": {},
   "source": [
    "# 4. Probabilidad de ocurrencia de un evento de acuerdo a la hora"
   ]
  },
  {
   "cell_type": "markdown",
   "id": "ca1d72a2",
   "metadata": {},
   "source": [
    "Se obtendrá la probabilidad de ocurrencia tener un accidente de bicicleta de acuerdo a la hora.\n",
    "\n",
    "Para esto se obtendrá primero la probabilidad de que haya un accidente de acuerdo a la hora"
   ]
  },
  {
   "cell_type": "code",
   "execution_count": 27,
   "id": "b1d08d11",
   "metadata": {
    "scrolled": true
   },
   "outputs": [
    {
     "name": "stderr",
     "output_type": "stream",
     "text": [
      "<ipython-input-27-a00c62275723>:3: SettingWithCopyWarning: \n",
      "A value is trying to be set on a copy of a slice from a DataFrame\n",
      "\n",
      "See the caveats in the documentation: https://pandas.pydata.org/pandas-docs/stable/user_guide/indexing.html#returning-a-view-versus-a-copy\n",
      "  df[\"hora\"][27604]=\"18:43\";\n",
      "<ipython-input-27-a00c62275723>:4: SettingWithCopyWarning: \n",
      "A value is trying to be set on a copy of a slice from a DataFrame\n",
      "\n",
      "See the caveats in the documentation: https://pandas.pydata.org/pandas-docs/stable/user_guide/indexing.html#returning-a-view-versus-a-copy\n",
      "  df[\"hora\"][33309]=\"19:17\";\n"
     ]
    }
   ],
   "source": [
    "#Limpieza de datos de hora, lanza una advertencia pero no pasa nada\n",
    "tiempo=[]\n",
    "df[\"hora\"][27604]=\"18:43\";\n",
    "df[\"hora\"][33309]=\"19:17\";\n",
    "for i in range(len(df[\"hora\"])):\n",
    "    if df[\"hora\"][i]==\"SD\":\n",
    "        pass\n",
    "    else:\n",
    "        tiempo.append([pd.Timestamp(df[\"hora\"][i]),pd.Timestamp(df[\"hora\"][i])]);"
   ]
  },
  {
   "cell_type": "markdown",
   "id": "af5ef071",
   "metadata": {},
   "source": [
    "Obteniendo la probabilidad de que haya un accidente por hora"
   ]
  },
  {
   "cell_type": "code",
   "execution_count": 28,
   "id": "ea6d7f5b",
   "metadata": {
    "scrolled": true
   },
   "outputs": [
    {
     "data": {
      "text/html": [
       "<div>\n",
       "<style scoped>\n",
       "    .dataframe tbody tr th:only-of-type {\n",
       "        vertical-align: middle;\n",
       "    }\n",
       "\n",
       "    .dataframe tbody tr th {\n",
       "        vertical-align: top;\n",
       "    }\n",
       "\n",
       "    .dataframe thead th {\n",
       "        text-align: right;\n",
       "    }\n",
       "</style>\n",
       "<table border=\"1\" class=\"dataframe\">\n",
       "  <thead>\n",
       "    <tr style=\"text-align: right;\">\n",
       "      <th></th>\n",
       "      <th>Prob. de un accidente</th>\n",
       "    </tr>\n",
       "  </thead>\n",
       "  <tbody>\n",
       "    <tr>\n",
       "      <th>2021-10-09 00:00:00</th>\n",
       "      <td>0.026435</td>\n",
       "    </tr>\n",
       "    <tr>\n",
       "      <th>2021-10-09 01:00:00</th>\n",
       "      <td>0.025833</td>\n",
       "    </tr>\n",
       "    <tr>\n",
       "      <th>2021-10-09 02:00:00</th>\n",
       "      <td>0.019734</td>\n",
       "    </tr>\n",
       "    <tr>\n",
       "      <th>2021-10-09 03:00:00</th>\n",
       "      <td>0.018433</td>\n",
       "    </tr>\n",
       "    <tr>\n",
       "      <th>2021-10-09 04:00:00</th>\n",
       "      <td>0.017675</td>\n",
       "    </tr>\n",
       "    <tr>\n",
       "      <th>2021-10-09 05:00:00</th>\n",
       "      <td>0.020861</td>\n",
       "    </tr>\n",
       "    <tr>\n",
       "      <th>2021-10-09 06:00:00</th>\n",
       "      <td>0.027135</td>\n",
       "    </tr>\n",
       "    <tr>\n",
       "      <th>2021-10-09 07:00:00</th>\n",
       "      <td>0.042945</td>\n",
       "    </tr>\n",
       "    <tr>\n",
       "      <th>2021-10-09 08:00:00</th>\n",
       "      <td>0.062835</td>\n",
       "    </tr>\n",
       "    <tr>\n",
       "      <th>2021-10-09 09:00:00</th>\n",
       "      <td>0.060135</td>\n",
       "    </tr>\n",
       "    <tr>\n",
       "      <th>2021-10-09 10:00:00</th>\n",
       "      <td>0.052366</td>\n",
       "    </tr>\n",
       "    <tr>\n",
       "      <th>2021-10-09 11:00:00</th>\n",
       "      <td>0.050326</td>\n",
       "    </tr>\n",
       "    <tr>\n",
       "      <th>2021-10-09 12:00:00</th>\n",
       "      <td>0.048598</td>\n",
       "    </tr>\n",
       "    <tr>\n",
       "      <th>2021-10-09 13:00:00</th>\n",
       "      <td>0.046170</td>\n",
       "    </tr>\n",
       "    <tr>\n",
       "      <th>2021-10-09 14:00:00</th>\n",
       "      <td>0.051667</td>\n",
       "    </tr>\n",
       "    <tr>\n",
       "      <th>2021-10-09 15:00:00</th>\n",
       "      <td>0.054405</td>\n",
       "    </tr>\n",
       "    <tr>\n",
       "      <th>2021-10-09 16:00:00</th>\n",
       "      <td>0.054599</td>\n",
       "    </tr>\n",
       "    <tr>\n",
       "      <th>2021-10-09 17:00:00</th>\n",
       "      <td>0.050792</td>\n",
       "    </tr>\n",
       "    <tr>\n",
       "      <th>2021-10-09 18:00:00</th>\n",
       "      <td>0.049258</td>\n",
       "    </tr>\n",
       "    <tr>\n",
       "      <th>2021-10-09 19:00:00</th>\n",
       "      <td>0.049530</td>\n",
       "    </tr>\n",
       "    <tr>\n",
       "      <th>2021-10-09 20:00:00</th>\n",
       "      <td>0.048792</td>\n",
       "    </tr>\n",
       "    <tr>\n",
       "      <th>2021-10-09 21:00:00</th>\n",
       "      <td>0.047141</td>\n",
       "    </tr>\n",
       "    <tr>\n",
       "      <th>2021-10-09 22:00:00</th>\n",
       "      <td>0.041644</td>\n",
       "    </tr>\n",
       "    <tr>\n",
       "      <th>2021-10-09 23:00:00</th>\n",
       "      <td>0.032515</td>\n",
       "    </tr>\n",
       "  </tbody>\n",
       "</table>\n",
       "</div>"
      ],
      "text/plain": [
       "                     Prob. de un accidente\n",
       "2021-10-09 00:00:00               0.026435\n",
       "2021-10-09 01:00:00               0.025833\n",
       "2021-10-09 02:00:00               0.019734\n",
       "2021-10-09 03:00:00               0.018433\n",
       "2021-10-09 04:00:00               0.017675\n",
       "2021-10-09 05:00:00               0.020861\n",
       "2021-10-09 06:00:00               0.027135\n",
       "2021-10-09 07:00:00               0.042945\n",
       "2021-10-09 08:00:00               0.062835\n",
       "2021-10-09 09:00:00               0.060135\n",
       "2021-10-09 10:00:00               0.052366\n",
       "2021-10-09 11:00:00               0.050326\n",
       "2021-10-09 12:00:00               0.048598\n",
       "2021-10-09 13:00:00               0.046170\n",
       "2021-10-09 14:00:00               0.051667\n",
       "2021-10-09 15:00:00               0.054405\n",
       "2021-10-09 16:00:00               0.054599\n",
       "2021-10-09 17:00:00               0.050792\n",
       "2021-10-09 18:00:00               0.049258\n",
       "2021-10-09 19:00:00               0.049530\n",
       "2021-10-09 20:00:00               0.048792\n",
       "2021-10-09 21:00:00               0.047141\n",
       "2021-10-09 22:00:00               0.041644\n",
       "2021-10-09 23:00:00               0.032515"
      ]
     },
     "execution_count": 28,
     "metadata": {},
     "output_type": "execute_result"
    }
   ],
   "source": [
    "df1 = pd.DataFrame(tiempo,  columns=[\"Prob. de un accidente\",\"Index\"]);\n",
    "df1.set_index(\"Index\",inplace=True);\n",
    "probabilidad_por_hora=df1.groupby(pd.Grouper(freq='1H')).count()/N\n",
    "probabilidad_por_hora=probabilidad_por_hora.rename_axis(None)\n",
    "probabilidad_por_hora\n",
    "#No hacerle caso a la fecha que sale antes de la hora"
   ]
  },
  {
   "cell_type": "code",
   "execution_count": 29,
   "id": "f47c40c6",
   "metadata": {},
   "outputs": [
    {
     "data": {
      "text/plain": [
       "0.9998251884080491"
      ]
     },
     "execution_count": 29,
     "metadata": {},
     "output_type": "execute_result"
    }
   ],
   "source": [
    "sum(probabilidad_por_hora[\"Prob. de un accidente\"]) # Verificando que sume 1"
   ]
  },
  {
   "cell_type": "code",
   "execution_count": 30,
   "id": "614c4050",
   "metadata": {},
   "outputs": [
    {
     "data": {
      "image/png": "[encoded data removed]",
      "text/plain": [
       "<Figure size 720x720 with 1 Axes>"
      ]
     },
     "metadata": {
      "needs_background": "light"
     },
     "output_type": "display_data"
    }
   ],
   "source": [
    "plt.figure(figsize=(10, 10))\n",
    "plot3=probabilidad_por_hora.reset_index().rename(columns={\"index\":\"Hora\"})\n",
    "sns.barplot(x=\"Hora\",y=\"Prob. de un accidente\",data=plot3);\n",
    "plt.xticks(rotation=90)\n",
    "plt.tight_layout()"
   ]
  },
  {
   "cell_type": "markdown",
   "id": "13dbef7e",
   "metadata": {},
   "source": [
    "# 5. Puntos y horarios de mayor vigilancia"
   ]
  },
  {
   "cell_type": "markdown",
   "id": "d6a72ec2",
   "metadata": {},
   "source": [
    "Veamos en que cruces de la ciudad se da la mayor cantidad de eventos"
   ]
  },
  {
   "cell_type": "code",
   "execution_count": 31,
   "id": "c4877114",
   "metadata": {},
   "outputs": [
    {
     "data": {
      "text/html": [
       "<div>\n",
       "<style scoped>\n",
       "    .dataframe tbody tr th:only-of-type {\n",
       "        vertical-align: middle;\n",
       "    }\n",
       "\n",
       "    .dataframe tbody tr th {\n",
       "        vertical-align: top;\n",
       "    }\n",
       "\n",
       "    .dataframe thead th {\n",
       "        text-align: right;\n",
       "    }\n",
       "</style>\n",
       "<table border=\"1\" class=\"dataframe\">\n",
       "  <thead>\n",
       "    <tr style=\"text-align: right;\">\n",
       "      <th></th>\n",
       "      <th>punto_1</th>\n",
       "      <th>punto_2</th>\n",
       "      <th>Eventos</th>\n",
       "    </tr>\n",
       "  </thead>\n",
       "  <tbody>\n",
       "    <tr>\n",
       "      <th>0</th>\n",
       "      <td>ANILLO PERIFERICO</td>\n",
       "      <td>EJE 5 SUR</td>\n",
       "      <td>72</td>\n",
       "    </tr>\n",
       "    <tr>\n",
       "      <th>1</th>\n",
       "      <td>ANILLO PERIFERICO</td>\n",
       "      <td>CANAL DE CHALCO</td>\n",
       "      <td>52</td>\n",
       "    </tr>\n",
       "    <tr>\n",
       "      <th>2</th>\n",
       "      <td>AV INSURGENTES</td>\n",
       "      <td>EJE 2 NTE</td>\n",
       "      <td>51</td>\n",
       "    </tr>\n",
       "    <tr>\n",
       "      <th>3</th>\n",
       "      <td>AV INSURGENTES</td>\n",
       "      <td>CALZ TICOMAN</td>\n",
       "      <td>49</td>\n",
       "    </tr>\n",
       "    <tr>\n",
       "      <th>4</th>\n",
       "      <td>ANILLO PERIFERICO</td>\n",
       "      <td>AV INSURGENTES</td>\n",
       "      <td>46</td>\n",
       "    </tr>\n",
       "    <tr>\n",
       "      <th>...</th>\n",
       "      <td>...</td>\n",
       "      <td>...</td>\n",
       "      <td>...</td>\n",
       "    </tr>\n",
       "    <tr>\n",
       "      <th>25148</th>\n",
       "      <td>CHIMALPOPOCA</td>\n",
       "      <td>DIAGONAL 20 DE NOVIEMDRE</td>\n",
       "      <td>1</td>\n",
       "    </tr>\n",
       "    <tr>\n",
       "      <th>25149</th>\n",
       "      <td>CHIMALPOPOCA</td>\n",
       "      <td>DR PASCUA</td>\n",
       "      <td>1</td>\n",
       "    </tr>\n",
       "    <tr>\n",
       "      <th>25150</th>\n",
       "      <td>CHIMALPOPOCA</td>\n",
       "      <td>LOS REYES</td>\n",
       "      <td>1</td>\n",
       "    </tr>\n",
       "    <tr>\n",
       "      <th>25151</th>\n",
       "      <td>CHIMALPOPOCA</td>\n",
       "      <td>LUCAS ALAMAN</td>\n",
       "      <td>1</td>\n",
       "    </tr>\n",
       "    <tr>\n",
       "      <th>25152</th>\n",
       "      <td>1 CDA CANAL DE SAN JUAN</td>\n",
       "      <td>ANILLO PERIFERICO</td>\n",
       "      <td>1</td>\n",
       "    </tr>\n",
       "  </tbody>\n",
       "</table>\n",
       "<p>25153 rows × 3 columns</p>\n",
       "</div>"
      ],
      "text/plain": [
       "                       punto_1                   punto_2  Eventos\n",
       "0            ANILLO PERIFERICO                 EJE 5 SUR       72\n",
       "1            ANILLO PERIFERICO           CANAL DE CHALCO       52\n",
       "2               AV INSURGENTES                 EJE 2 NTE       51\n",
       "3               AV INSURGENTES              CALZ TICOMAN       49\n",
       "4            ANILLO PERIFERICO            AV INSURGENTES       46\n",
       "...                        ...                       ...      ...\n",
       "25148             CHIMALPOPOCA  DIAGONAL 20 DE NOVIEMDRE        1\n",
       "25149             CHIMALPOPOCA                 DR PASCUA        1\n",
       "25150             CHIMALPOPOCA                 LOS REYES        1\n",
       "25151             CHIMALPOPOCA              LUCAS ALAMAN        1\n",
       "25152  1 CDA CANAL DE SAN JUAN         ANILLO PERIFERICO        1\n",
       "\n",
       "[25153 rows x 3 columns]"
      ]
     },
     "execution_count": 31,
     "metadata": {},
     "output_type": "execute_result"
    }
   ],
   "source": [
    "casos_por_punto=df[[\"punto_1\",\"punto_2\"]].value_counts()\n",
    "casos_por_punto=pd.DataFrame(casos_por_punto)\n",
    "casos_por_punto=casos_por_punto.reset_index()\n",
    "casos_por_punto.rename(columns={0:\"Eventos\"})"
   ]
  },
  {
   "cell_type": "markdown",
   "id": "ea1b187a-fb48-4445-9719-997cb03c2d45",
   "metadata": {},
   "source": [
    "Ahora para saber dónde hay que poner vigilancia debemos escoger los lugares que presenten más accidentes, por ejemplo, podemos proponernos poner vigilancia en los lugares donde ha hubo más de $N$ accidentes. La siguiente celda encuentra la cantidad de lugares donde hubo más de $N$ accidentes, para el caso de ejemplo escogí $N=10$. \n",
    "\n",
    "Recomiendo no escoger un número muy pequeño ya que algunas de las próximas celdas pueden tardar mucho en correr"
   ]
  },
  {
   "cell_type": "code",
   "execution_count": 32,
   "id": "ac0b33b6",
   "metadata": {
    "scrolled": true,
    "tags": []
   },
   "outputs": [
    {
     "name": "stdout",
     "output_type": "stream",
     "text": [
      "507\n"
     ]
    }
   ],
   "source": [
    "#Encuentra el índice donde los accidentes empiezan a ser menores que N_ac\n",
    "N_ac=10\n",
    "for i in range(len(casos_por_punto)):\n",
    "    if casos_por_punto.iloc[i][0]==N_ac:\n",
    "        print(i)\n",
    "        indice=i\n",
    "        break"
   ]
  },
  {
   "cell_type": "markdown",
   "id": "675ead38-4fbf-4e34-b7de-926b2669406a",
   "metadata": {},
   "source": [
    "Entonces hay $507$ cruces donde ocurrieron más de 10 accidentes, la siguiente celda va a encontrar exactamente los accidentes que ocurrieron en cada uno de esos cruces y va a guardar los DataFrames en una lista"
   ]
  },
  {
   "cell_type": "code",
   "execution_count": 33,
   "id": "2a9673ac-c36c-4465-982f-814fbf4a9fd6",
   "metadata": {
    "tags": []
   },
   "outputs": [
    {
     "name": "stderr",
     "output_type": "stream",
     "text": [
      "<ipython-input-33-5afb6cfa3962>:2: SettingWithCopyWarning: \n",
      "A value is trying to be set on a copy of a slice from a DataFrame\n",
      "\n",
      "See the caveats in the documentation: https://pandas.pydata.org/pandas-docs/stable/user_guide/indexing.html#returning-a-view-versus-a-copy\n",
      "  df[\"hora\"][27604]=\"18:43\";\n",
      "<ipython-input-33-5afb6cfa3962>:3: SettingWithCopyWarning: \n",
      "A value is trying to be set on a copy of a slice from a DataFrame\n",
      "\n",
      "See the caveats in the documentation: https://pandas.pydata.org/pandas-docs/stable/user_guide/indexing.html#returning-a-view-versus-a-copy\n",
      "  df[\"hora\"][33309]=\"19:17\";\n"
     ]
    }
   ],
   "source": [
    "# Forma una lista de DataFrames que tiene la hora y los puntos\n",
    "df[\"hora\"][27604]=\"18:43\";\n",
    "df[\"hora\"][33309]=\"19:17\";\n",
    "#Eso solo era para limpiar los datos, lanza una advertencia pero no pasa nada\n",
    "lista_de_dataframes=[]\n",
    "for caso in range(indice):\n",
    "    lista_de_dataframes.append(df[[\"hora\",\"punto_1\",\"punto_2\"]][(df[\"punto_1\"]==casos_por_punto.loc[caso,\"punto_1\"]) & (df[\"punto_2\"]==casos_por_punto.loc[caso,\"punto_2\"])])"
   ]
  },
  {
   "cell_type": "markdown",
   "id": "201bd133-b9aa-4f7f-839f-c16941095bf9",
   "metadata": {},
   "source": [
    "Para aclarar, la lista \"lista_de_dataframes\" contiene los DataFrames de cada uno de los cruces con la hora a la que ocurrió, la columna \"hora formateada\" solo está para simplificar los cálculos. muestro en la siguiente celda el primer elemento de dicha lista, que sería el DataFrame que contiene todos los choques que se dieron en periférico y eje 5:"
   ]
  },
  {
   "cell_type": "code",
   "execution_count": 34,
   "id": "2600bba0-7ed7-4f34-819c-0502d1fe795a",
   "metadata": {},
   "outputs": [
    {
     "data": {
      "text/html": [
       "<div>\n",
       "<style scoped>\n",
       "    .dataframe tbody tr th:only-of-type {\n",
       "        vertical-align: middle;\n",
       "    }\n",
       "\n",
       "    .dataframe tbody tr th {\n",
       "        vertical-align: top;\n",
       "    }\n",
       "\n",
       "    .dataframe thead th {\n",
       "        text-align: right;\n",
       "    }\n",
       "</style>\n",
       "<table border=\"1\" class=\"dataframe\">\n",
       "  <thead>\n",
       "    <tr style=\"text-align: right;\">\n",
       "      <th></th>\n",
       "      <th>hora</th>\n",
       "      <th>punto_1</th>\n",
       "      <th>punto_2</th>\n",
       "    </tr>\n",
       "  </thead>\n",
       "  <tbody>\n",
       "    <tr>\n",
       "      <th>1164</th>\n",
       "      <td>22:40</td>\n",
       "      <td>ANILLO PERIFERICO</td>\n",
       "      <td>EJE 5 SUR</td>\n",
       "    </tr>\n",
       "    <tr>\n",
       "      <th>1281</th>\n",
       "      <td>22:08</td>\n",
       "      <td>ANILLO PERIFERICO</td>\n",
       "      <td>EJE 5 SUR</td>\n",
       "    </tr>\n",
       "    <tr>\n",
       "      <th>1380</th>\n",
       "      <td>17:06</td>\n",
       "      <td>ANILLO PERIFERICO</td>\n",
       "      <td>EJE 5 SUR</td>\n",
       "    </tr>\n",
       "    <tr>\n",
       "      <th>2619</th>\n",
       "      <td>04:05</td>\n",
       "      <td>ANILLO PERIFERICO</td>\n",
       "      <td>EJE 5 SUR</td>\n",
       "    </tr>\n",
       "    <tr>\n",
       "      <th>3105</th>\n",
       "      <td>10:27</td>\n",
       "      <td>ANILLO PERIFERICO</td>\n",
       "      <td>EJE 5 SUR</td>\n",
       "    </tr>\n",
       "    <tr>\n",
       "      <th>...</th>\n",
       "      <td>...</td>\n",
       "      <td>...</td>\n",
       "      <td>...</td>\n",
       "    </tr>\n",
       "    <tr>\n",
       "      <th>46382</th>\n",
       "      <td>08:32</td>\n",
       "      <td>ANILLO PERIFERICO</td>\n",
       "      <td>EJE 5 SUR</td>\n",
       "    </tr>\n",
       "    <tr>\n",
       "      <th>47104</th>\n",
       "      <td>10:45</td>\n",
       "      <td>ANILLO PERIFERICO</td>\n",
       "      <td>EJE 5 SUR</td>\n",
       "    </tr>\n",
       "    <tr>\n",
       "      <th>47188</th>\n",
       "      <td>07:35</td>\n",
       "      <td>ANILLO PERIFERICO</td>\n",
       "      <td>EJE 5 SUR</td>\n",
       "    </tr>\n",
       "    <tr>\n",
       "      <th>47234</th>\n",
       "      <td>08:27</td>\n",
       "      <td>ANILLO PERIFERICO</td>\n",
       "      <td>EJE 5 SUR</td>\n",
       "    </tr>\n",
       "    <tr>\n",
       "      <th>51433</th>\n",
       "      <td>19:46</td>\n",
       "      <td>ANILLO PERIFERICO</td>\n",
       "      <td>EJE 5 SUR</td>\n",
       "    </tr>\n",
       "  </tbody>\n",
       "</table>\n",
       "<p>72 rows × 3 columns</p>\n",
       "</div>"
      ],
      "text/plain": [
       "        hora            punto_1    punto_2\n",
       "1164   22:40  ANILLO PERIFERICO  EJE 5 SUR\n",
       "1281   22:08  ANILLO PERIFERICO  EJE 5 SUR\n",
       "1380   17:06  ANILLO PERIFERICO  EJE 5 SUR\n",
       "2619   04:05  ANILLO PERIFERICO  EJE 5 SUR\n",
       "3105   10:27  ANILLO PERIFERICO  EJE 5 SUR\n",
       "...      ...                ...        ...\n",
       "46382  08:32  ANILLO PERIFERICO  EJE 5 SUR\n",
       "47104  10:45  ANILLO PERIFERICO  EJE 5 SUR\n",
       "47188  07:35  ANILLO PERIFERICO  EJE 5 SUR\n",
       "47234  08:27  ANILLO PERIFERICO  EJE 5 SUR\n",
       "51433  19:46  ANILLO PERIFERICO  EJE 5 SUR\n",
       "\n",
       "[72 rows x 3 columns]"
      ]
     },
     "execution_count": 34,
     "metadata": {},
     "output_type": "execute_result"
    }
   ],
   "source": [
    "lista_de_dataframes[0]"
   ]
  },
  {
   "cell_type": "markdown",
   "id": "e4baefe7-d672-4aa6-8b22-a25116362f9b",
   "metadata": {},
   "source": [
    "La siguiente celda va a segmentar el DataFrame anterior (junto con todos los demás en \"lista_de_dataframes\") en lapsos de 2 horas y va a ver en que lapso se da la mayor cantidad de accidentes"
   ]
  },
  {
   "cell_type": "code",
   "execution_count": 35,
   "id": "d84c016b-70e2-4c6b-9573-0b8e12914b50",
   "metadata": {},
   "outputs": [],
   "source": [
    "intervalo_de_vigilancia=[]\n",
    "for i in range(indice):\n",
    "    hora_formateada=[]\n",
    "    for hora in range(len(lista_de_dataframes[i])):\n",
    "        if lista_de_dataframes[i][\"hora\"].values[hora] != \"SD\":\n",
    "            hora_formateada.append(pd.Timestamp(lista_de_dataframes[i][\"hora\"].values[hora]))\n",
    "        else:\n",
    "            hora_formateada.append(np.nan)\n",
    "    lista_de_dataframes[i][\"hora formateada\"] = hora_formateada\n",
    "    #esta línea se va a mostrar en la siguiente celda\n",
    "    a=lista_de_dataframes[i].set_index(\"hora formateada\").groupby(pd.Grouper(freq='2H')).count().rename_axis(None)[[\"hora\"]].rename(columns={\"hora\":\"casos\"})[[\"casos\"]]\n",
    "    intervalo_de_vigilancia.append(str(a.idxmax()[0])[-8:-3] + \" - \" + str(a.idxmax()[0]+datetime.timedelta(hours = 2))[-8:-3])"
   ]
  },
  {
   "cell_type": "markdown",
   "id": "b77a63d3-cf3b-494c-b7a4-5c34a8334106",
   "metadata": {},
   "source": [
    "A continuación se muestra un ejemplo de lo que hizo la celda para cada uno de los DataFrames en \"lista_de_dataframes\", esta es la agrupación por horas del DataFrame que contiene todos los choques que se dieron en periférico y eje 5:"
   ]
  },
  {
   "cell_type": "code",
   "execution_count": 36,
   "id": "241107a6-385d-459a-a0fa-ef2a62edb6cd",
   "metadata": {},
   "outputs": [
    {
     "data": {
      "text/html": [
       "<div>\n",
       "<style scoped>\n",
       "    .dataframe tbody tr th:only-of-type {\n",
       "        vertical-align: middle;\n",
       "    }\n",
       "\n",
       "    .dataframe tbody tr th {\n",
       "        vertical-align: top;\n",
       "    }\n",
       "\n",
       "    .dataframe thead th {\n",
       "        text-align: right;\n",
       "    }\n",
       "</style>\n",
       "<table border=\"1\" class=\"dataframe\">\n",
       "  <thead>\n",
       "    <tr style=\"text-align: right;\">\n",
       "      <th></th>\n",
       "      <th>casos</th>\n",
       "    </tr>\n",
       "  </thead>\n",
       "  <tbody>\n",
       "    <tr>\n",
       "      <th>2021-10-09 00:00:00</th>\n",
       "      <td>1</td>\n",
       "    </tr>\n",
       "    <tr>\n",
       "      <th>2021-10-09 02:00:00</th>\n",
       "      <td>3</td>\n",
       "    </tr>\n",
       "    <tr>\n",
       "      <th>2021-10-09 04:00:00</th>\n",
       "      <td>4</td>\n",
       "    </tr>\n",
       "    <tr>\n",
       "      <th>2021-10-09 06:00:00</th>\n",
       "      <td>6</td>\n",
       "    </tr>\n",
       "    <tr>\n",
       "      <th>2021-10-09 08:00:00</th>\n",
       "      <td>7</td>\n",
       "    </tr>\n",
       "    <tr>\n",
       "      <th>2021-10-09 10:00:00</th>\n",
       "      <td>9</td>\n",
       "    </tr>\n",
       "    <tr>\n",
       "      <th>2021-10-09 12:00:00</th>\n",
       "      <td>12</td>\n",
       "    </tr>\n",
       "    <tr>\n",
       "      <th>2021-10-09 14:00:00</th>\n",
       "      <td>5</td>\n",
       "    </tr>\n",
       "    <tr>\n",
       "      <th>2021-10-09 16:00:00</th>\n",
       "      <td>5</td>\n",
       "    </tr>\n",
       "    <tr>\n",
       "      <th>2021-10-09 18:00:00</th>\n",
       "      <td>8</td>\n",
       "    </tr>\n",
       "    <tr>\n",
       "      <th>2021-10-09 20:00:00</th>\n",
       "      <td>4</td>\n",
       "    </tr>\n",
       "    <tr>\n",
       "      <th>2021-10-09 22:00:00</th>\n",
       "      <td>8</td>\n",
       "    </tr>\n",
       "  </tbody>\n",
       "</table>\n",
       "</div>"
      ],
      "text/plain": [
       "                     casos\n",
       "2021-10-09 00:00:00      1\n",
       "2021-10-09 02:00:00      3\n",
       "2021-10-09 04:00:00      4\n",
       "2021-10-09 06:00:00      6\n",
       "2021-10-09 08:00:00      7\n",
       "2021-10-09 10:00:00      9\n",
       "2021-10-09 12:00:00     12\n",
       "2021-10-09 14:00:00      5\n",
       "2021-10-09 16:00:00      5\n",
       "2021-10-09 18:00:00      8\n",
       "2021-10-09 20:00:00      4\n",
       "2021-10-09 22:00:00      8"
      ]
     },
     "execution_count": 36,
     "metadata": {},
     "output_type": "execute_result"
    }
   ],
   "source": [
    "lista_de_dataframes[0].set_index(\"hora formateada\").groupby(pd.Grouper(freq='2H')).count().rename_axis(None)[[\"hora\"]].rename(columns={\"hora\":\"casos\"})[[\"casos\"]]"
   ]
  },
  {
   "cell_type": "markdown",
   "id": "c43ff656-c963-47c8-ab62-84b8cd1245a5",
   "metadata": {},
   "source": [
    "Es claro que la mayor cantidad de choques se dió en el lapso de 12:00 a 13:59.\n",
    "\n",
    "A continuación muestro el DataFrame que sintetiza todos los cálculos:"
   ]
  },
  {
   "cell_type": "code",
   "execution_count": 37,
   "id": "13313b55",
   "metadata": {},
   "outputs": [
    {
     "name": "stderr",
     "output_type": "stream",
     "text": [
      "<ipython-input-37-1a2ad31a431d>:2: SettingWithCopyWarning: \n",
      "A value is trying to be set on a copy of a slice from a DataFrame.\n",
      "Try using .loc[row_indexer,col_indexer] = value instead\n",
      "\n",
      "See the caveats in the documentation: https://pandas.pydata.org/pandas-docs/stable/user_guide/indexing.html#returning-a-view-versus-a-copy\n",
      "  vigilancia_eventos[\"Horario de Vigilancia\"]=pd.DataFrame(intervalo_de_vigilancia)\n"
     ]
    },
    {
     "data": {
      "text/html": [
       "<div>\n",
       "<style scoped>\n",
       "    .dataframe tbody tr th:only-of-type {\n",
       "        vertical-align: middle;\n",
       "    }\n",
       "\n",
       "    .dataframe tbody tr th {\n",
       "        vertical-align: top;\n",
       "    }\n",
       "\n",
       "    .dataframe thead th {\n",
       "        text-align: right;\n",
       "    }\n",
       "</style>\n",
       "<table border=\"1\" class=\"dataframe\">\n",
       "  <thead>\n",
       "    <tr style=\"text-align: right;\">\n",
       "      <th></th>\n",
       "      <th>Punto 1</th>\n",
       "      <th>Punto 2</th>\n",
       "      <th>Eventos</th>\n",
       "      <th>Horario de Vigilancia</th>\n",
       "    </tr>\n",
       "  </thead>\n",
       "  <tbody>\n",
       "    <tr>\n",
       "      <th>0</th>\n",
       "      <td>ANILLO PERIFERICO</td>\n",
       "      <td>EJE 5 SUR</td>\n",
       "      <td>72</td>\n",
       "      <td>12:00 - 14:00</td>\n",
       "    </tr>\n",
       "    <tr>\n",
       "      <th>1</th>\n",
       "      <td>ANILLO PERIFERICO</td>\n",
       "      <td>CANAL DE CHALCO</td>\n",
       "      <td>52</td>\n",
       "      <td>06:00 - 08:00</td>\n",
       "    </tr>\n",
       "    <tr>\n",
       "      <th>2</th>\n",
       "      <td>AV INSURGENTES</td>\n",
       "      <td>EJE 2 NTE</td>\n",
       "      <td>51</td>\n",
       "      <td>18:00 - 20:00</td>\n",
       "    </tr>\n",
       "    <tr>\n",
       "      <th>3</th>\n",
       "      <td>AV INSURGENTES</td>\n",
       "      <td>CALZ TICOMAN</td>\n",
       "      <td>49</td>\n",
       "      <td>08:00 - 10:00</td>\n",
       "    </tr>\n",
       "    <tr>\n",
       "      <th>4</th>\n",
       "      <td>ANILLO PERIFERICO</td>\n",
       "      <td>AV INSURGENTES</td>\n",
       "      <td>46</td>\n",
       "      <td>00:00 - 02:00</td>\n",
       "    </tr>\n",
       "    <tr>\n",
       "      <th>...</th>\n",
       "      <td>...</td>\n",
       "      <td>...</td>\n",
       "      <td>...</td>\n",
       "      <td>...</td>\n",
       "    </tr>\n",
       "    <tr>\n",
       "      <th>502</th>\n",
       "      <td>EJE CENTRAL</td>\n",
       "      <td>JUPITER</td>\n",
       "      <td>11</td>\n",
       "      <td>08:00 - 10:00</td>\n",
       "    </tr>\n",
       "    <tr>\n",
       "      <th>503</th>\n",
       "      <td>AV FRAY SERVANDO T DE MIER</td>\n",
       "      <td>SUR 103</td>\n",
       "      <td>11</td>\n",
       "      <td>08:00 - 10:00</td>\n",
       "    </tr>\n",
       "    <tr>\n",
       "      <th>504</th>\n",
       "      <td>CALZ DE TLALPAN</td>\n",
       "      <td>AV INSURGENTES</td>\n",
       "      <td>11</td>\n",
       "      <td>18:00 - 20:00</td>\n",
       "    </tr>\n",
       "    <tr>\n",
       "      <th>505</th>\n",
       "      <td>AV TEZOZOMOC</td>\n",
       "      <td>EJE 3 NTE</td>\n",
       "      <td>11</td>\n",
       "      <td>08:00 - 10:00</td>\n",
       "    </tr>\n",
       "    <tr>\n",
       "      <th>506</th>\n",
       "      <td>EJE 2 OTE</td>\n",
       "      <td>EJE 4 NTE</td>\n",
       "      <td>11</td>\n",
       "      <td>04:00 - 06:00</td>\n",
       "    </tr>\n",
       "  </tbody>\n",
       "</table>\n",
       "<p>507 rows × 4 columns</p>\n",
       "</div>"
      ],
      "text/plain": [
       "                        Punto 1          Punto 2  Eventos  \\\n",
       "0             ANILLO PERIFERICO        EJE 5 SUR       72   \n",
       "1             ANILLO PERIFERICO  CANAL DE CHALCO       52   \n",
       "2                AV INSURGENTES        EJE 2 NTE       51   \n",
       "3                AV INSURGENTES     CALZ TICOMAN       49   \n",
       "4             ANILLO PERIFERICO   AV INSURGENTES       46   \n",
       "..                          ...              ...      ...   \n",
       "502                 EJE CENTRAL          JUPITER       11   \n",
       "503  AV FRAY SERVANDO T DE MIER          SUR 103       11   \n",
       "504             CALZ DE TLALPAN   AV INSURGENTES       11   \n",
       "505                AV TEZOZOMOC        EJE 3 NTE       11   \n",
       "506                   EJE 2 OTE        EJE 4 NTE       11   \n",
       "\n",
       "    Horario de Vigilancia  \n",
       "0           12:00 - 14:00  \n",
       "1           06:00 - 08:00  \n",
       "2           18:00 - 20:00  \n",
       "3           08:00 - 10:00  \n",
       "4           00:00 - 02:00  \n",
       "..                    ...  \n",
       "502         08:00 - 10:00  \n",
       "503         08:00 - 10:00  \n",
       "504         18:00 - 20:00  \n",
       "505         08:00 - 10:00  \n",
       "506         04:00 - 06:00  \n",
       "\n",
       "[507 rows x 4 columns]"
      ]
     },
     "execution_count": 37,
     "metadata": {},
     "output_type": "execute_result"
    }
   ],
   "source": [
    "vigilancia_eventos=casos_por_punto[:indice]\n",
    "vigilancia_eventos[\"Horario de Vigilancia\"]=pd.DataFrame(intervalo_de_vigilancia)\n",
    "vigilancia_eventos.rename(columns={\"punto_1\":\"Punto 1\",\"punto_2\":\"Punto 2\",0:\"Eventos\"})\n",
    "#no hacerle caso a la advertencia"
   ]
  }
 ],
 "metadata": {
  "kernelspec": {
   "display_name": "Python 3",
   "language": "python",
   "name": "python3"
  },
  "language_info": {
   "codemirror_mode": {
    "name": "ipython",
    "version": 3
   },
   "file_extension": ".py",
   "mimetype": "text/x-python",
   "name": "python",
   "nbconvert_exporter": "python",
   "pygments_lexer": "ipython3",
   "version": "3.8.8"
  }
 },
 "nbformat": 4,
 "nbformat_minor": 5
}
